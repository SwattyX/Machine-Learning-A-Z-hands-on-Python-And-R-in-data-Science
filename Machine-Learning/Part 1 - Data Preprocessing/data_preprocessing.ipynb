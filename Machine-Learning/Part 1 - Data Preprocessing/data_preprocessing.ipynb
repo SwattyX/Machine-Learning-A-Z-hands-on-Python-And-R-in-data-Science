{
 "cells": [
  {
   "cell_type": "code",
   "execution_count": 4,
   "metadata": {},
   "outputs": [],
   "source": [
    "import numpy as np\n",
    "import matplotlib.pyplot as plt\n",
    "import pandas as pd"
   ]
  },
  {
   "cell_type": "code",
   "execution_count": 4,
   "metadata": {},
   "outputs": [
    {
     "data": {
      "text/plain": [
       "'randolph'"
      ]
     },
     "execution_count": 4,
     "metadata": {},
     "output_type": "execute_result"
    }
   ],
   "source": [
    "name='randolph'\n",
    "name"
   ]
  },
  {
   "cell_type": "code",
   "execution_count": 6,
   "metadata": {},
   "outputs": [
    {
     "data": {
      "text/plain": [
       "'ran'"
      ]
     },
     "execution_count": 6,
     "metadata": {},
     "output_type": "execute_result"
    }
   ],
   "source": [
    "name[:-5]"
   ]
  },
  {
   "cell_type": "code",
   "execution_count": 10,
   "metadata": {},
   "outputs": [
    {
     "data": {
      "text/html": [
       "<div>\n",
       "<style scoped>\n",
       "    .dataframe tbody tr th:only-of-type {\n",
       "        vertical-align: middle;\n",
       "    }\n",
       "\n",
       "    .dataframe tbody tr th {\n",
       "        vertical-align: top;\n",
       "    }\n",
       "\n",
       "    .dataframe thead th {\n",
       "        text-align: right;\n",
       "    }\n",
       "</style>\n",
       "<table border=\"1\" class=\"dataframe\">\n",
       "  <thead>\n",
       "    <tr style=\"text-align: right;\">\n",
       "      <th></th>\n",
       "      <th>Country code</th>\n",
       "      <th>Country name</th>\n",
       "      <th>Series code</th>\n",
       "      <th>Series name</th>\n",
       "      <th>SCALE</th>\n",
       "      <th>Decimals</th>\n",
       "      <th>1990</th>\n",
       "      <th>1991</th>\n",
       "      <th>1992</th>\n",
       "      <th>1993</th>\n",
       "      <th>...</th>\n",
       "      <th>2002</th>\n",
       "      <th>2003</th>\n",
       "      <th>2004</th>\n",
       "      <th>2005</th>\n",
       "      <th>2006</th>\n",
       "      <th>2007</th>\n",
       "      <th>2008</th>\n",
       "      <th>2009</th>\n",
       "      <th>2010</th>\n",
       "      <th>2011</th>\n",
       "    </tr>\n",
       "  </thead>\n",
       "  <tbody>\n",
       "    <tr>\n",
       "      <th>0</th>\n",
       "      <td>ABW</td>\n",
       "      <td>Aruba</td>\n",
       "      <td>AG.LND.EL5M.ZS</td>\n",
       "      <td>Land area below 5m (% of land area)</td>\n",
       "      <td>0</td>\n",
       "      <td>1</td>\n",
       "      <td>29.57481</td>\n",
       "      <td>..</td>\n",
       "      <td>..</td>\n",
       "      <td>..</td>\n",
       "      <td>...</td>\n",
       "      <td>..</td>\n",
       "      <td>..</td>\n",
       "      <td>..</td>\n",
       "      <td>..</td>\n",
       "      <td>..</td>\n",
       "      <td>..</td>\n",
       "      <td>..</td>\n",
       "      <td>..</td>\n",
       "      <td>..</td>\n",
       "      <td>..</td>\n",
       "    </tr>\n",
       "    <tr>\n",
       "      <th>1</th>\n",
       "      <td>ADO</td>\n",
       "      <td>Andorra</td>\n",
       "      <td>AG.LND.EL5M.ZS</td>\n",
       "      <td>Land area below 5m (% of land area)</td>\n",
       "      <td>0</td>\n",
       "      <td>1</td>\n",
       "      <td>0</td>\n",
       "      <td>..</td>\n",
       "      <td>..</td>\n",
       "      <td>..</td>\n",
       "      <td>...</td>\n",
       "      <td>..</td>\n",
       "      <td>..</td>\n",
       "      <td>..</td>\n",
       "      <td>..</td>\n",
       "      <td>..</td>\n",
       "      <td>..</td>\n",
       "      <td>..</td>\n",
       "      <td>..</td>\n",
       "      <td>..</td>\n",
       "      <td>..</td>\n",
       "    </tr>\n",
       "    <tr>\n",
       "      <th>2</th>\n",
       "      <td>AFG</td>\n",
       "      <td>Afghanistan</td>\n",
       "      <td>AG.LND.EL5M.ZS</td>\n",
       "      <td>Land area below 5m (% of land area)</td>\n",
       "      <td>0</td>\n",
       "      <td>1</td>\n",
       "      <td>0</td>\n",
       "      <td>..</td>\n",
       "      <td>..</td>\n",
       "      <td>..</td>\n",
       "      <td>...</td>\n",
       "      <td>..</td>\n",
       "      <td>..</td>\n",
       "      <td>..</td>\n",
       "      <td>..</td>\n",
       "      <td>..</td>\n",
       "      <td>..</td>\n",
       "      <td>..</td>\n",
       "      <td>..</td>\n",
       "      <td>..</td>\n",
       "      <td>..</td>\n",
       "    </tr>\n",
       "    <tr>\n",
       "      <th>3</th>\n",
       "      <td>AGO</td>\n",
       "      <td>Angola</td>\n",
       "      <td>AG.LND.EL5M.ZS</td>\n",
       "      <td>Land area below 5m (% of land area)</td>\n",
       "      <td>0</td>\n",
       "      <td>1</td>\n",
       "      <td>0.208235</td>\n",
       "      <td>..</td>\n",
       "      <td>..</td>\n",
       "      <td>..</td>\n",
       "      <td>...</td>\n",
       "      <td>..</td>\n",
       "      <td>..</td>\n",
       "      <td>..</td>\n",
       "      <td>..</td>\n",
       "      <td>..</td>\n",
       "      <td>..</td>\n",
       "      <td>..</td>\n",
       "      <td>..</td>\n",
       "      <td>..</td>\n",
       "      <td>..</td>\n",
       "    </tr>\n",
       "    <tr>\n",
       "      <th>4</th>\n",
       "      <td>ALB</td>\n",
       "      <td>Albania</td>\n",
       "      <td>AG.LND.EL5M.ZS</td>\n",
       "      <td>Land area below 5m (% of land area)</td>\n",
       "      <td>0</td>\n",
       "      <td>1</td>\n",
       "      <td>4.967875</td>\n",
       "      <td>..</td>\n",
       "      <td>..</td>\n",
       "      <td>..</td>\n",
       "      <td>...</td>\n",
       "      <td>..</td>\n",
       "      <td>..</td>\n",
       "      <td>..</td>\n",
       "      <td>..</td>\n",
       "      <td>..</td>\n",
       "      <td>..</td>\n",
       "      <td>..</td>\n",
       "      <td>..</td>\n",
       "      <td>..</td>\n",
       "      <td>..</td>\n",
       "    </tr>\n",
       "  </tbody>\n",
       "</table>\n",
       "<p>5 rows × 28 columns</p>\n",
       "</div>"
      ],
      "text/plain": [
       "  Country code Country name     Series code  \\\n",
       "0          ABW        Aruba  AG.LND.EL5M.ZS   \n",
       "1          ADO      Andorra  AG.LND.EL5M.ZS   \n",
       "2          AFG  Afghanistan  AG.LND.EL5M.ZS   \n",
       "3          AGO       Angola  AG.LND.EL5M.ZS   \n",
       "4          ALB      Albania  AG.LND.EL5M.ZS   \n",
       "\n",
       "                           Series name SCALE Decimals      1990 1991 1992  \\\n",
       "0  Land area below 5m (% of land area)     0        1  29.57481   ..   ..   \n",
       "1  Land area below 5m (% of land area)     0        1         0   ..   ..   \n",
       "2  Land area below 5m (% of land area)     0        1         0   ..   ..   \n",
       "3  Land area below 5m (% of land area)     0        1  0.208235   ..   ..   \n",
       "4  Land area below 5m (% of land area)     0        1  4.967875   ..   ..   \n",
       "\n",
       "  1993  ... 2002 2003 2004 2005 2006 2007 2008 2009 2010 2011  \n",
       "0   ..  ...   ..   ..   ..   ..   ..   ..   ..   ..   ..   ..  \n",
       "1   ..  ...   ..   ..   ..   ..   ..   ..   ..   ..   ..   ..  \n",
       "2   ..  ...   ..   ..   ..   ..   ..   ..   ..   ..   ..   ..  \n",
       "3   ..  ...   ..   ..   ..   ..   ..   ..   ..   ..   ..   ..  \n",
       "4   ..  ...   ..   ..   ..   ..   ..   ..   ..   ..   ..   ..  \n",
       "\n",
       "[5 rows x 28 columns]"
      ]
     },
     "execution_count": 10,
     "metadata": {},
     "output_type": "execute_result"
    }
   ],
   "source": [
    "data = pd.read_excel('climate_change.xls')\n",
    "data.head()"
   ]
  },
  {
   "cell_type": "code",
   "execution_count": 11,
   "metadata": {},
   "outputs": [
    {
     "data": {
      "text/plain": [
       "Country code    object\n",
       "Country name    object\n",
       "Series code     object\n",
       "Series name     object\n",
       "SCALE           object\n",
       "Decimals        object\n",
       "1990            object\n",
       "1991            object\n",
       "1992            object\n",
       "1993            object\n",
       "1994            object\n",
       "1995            object\n",
       "1996            object\n",
       "1997            object\n",
       "1998            object\n",
       "1999            object\n",
       "2000            object\n",
       "2001            object\n",
       "2002            object\n",
       "2003            object\n",
       "2004            object\n",
       "2005            object\n",
       "2006            object\n",
       "2007            object\n",
       "2008            object\n",
       "2009            object\n",
       "2010            object\n",
       "2011            object\n",
       "dtype: object"
      ]
     },
     "execution_count": 11,
     "metadata": {},
     "output_type": "execute_result"
    }
   ],
   "source": [
    "data.dtypes"
   ]
  },
  {
   "cell_type": "code",
   "execution_count": 17,
   "metadata": {},
   "outputs": [
    {
     "data": {
      "text/plain": [
       "False    13512\n",
       "Name: Country code, dtype: int64"
      ]
     },
     "execution_count": 17,
     "metadata": {},
     "output_type": "execute_result"
    }
   ],
   "source": [
    "data['Country code'].isnull().value_counts()"
   ]
  },
  {
   "cell_type": "code",
   "execution_count": 24,
   "metadata": {},
   "outputs": [],
   "source": [
    "data['Country name'] = data['Country name'].astype(str)"
   ]
  },
  {
   "cell_type": "code",
   "execution_count": 26,
   "metadata": {},
   "outputs": [
    {
     "data": {
      "text/html": [
       "<div>\n",
       "<style scoped>\n",
       "    .dataframe tbody tr th:only-of-type {\n",
       "        vertical-align: middle;\n",
       "    }\n",
       "\n",
       "    .dataframe tbody tr th {\n",
       "        vertical-align: top;\n",
       "    }\n",
       "\n",
       "    .dataframe thead th {\n",
       "        text-align: right;\n",
       "    }\n",
       "</style>\n",
       "<table border=\"1\" class=\"dataframe\">\n",
       "  <thead>\n",
       "    <tr style=\"text-align: right;\">\n",
       "      <th></th>\n",
       "      <th>Country code</th>\n",
       "      <th>Country name</th>\n",
       "      <th>Series code</th>\n",
       "      <th>Series name</th>\n",
       "      <th>SCALE</th>\n",
       "      <th>Decimals</th>\n",
       "      <th>1990</th>\n",
       "      <th>1991</th>\n",
       "      <th>1992</th>\n",
       "      <th>1993</th>\n",
       "      <th>...</th>\n",
       "      <th>2002</th>\n",
       "      <th>2003</th>\n",
       "      <th>2004</th>\n",
       "      <th>2005</th>\n",
       "      <th>2006</th>\n",
       "      <th>2007</th>\n",
       "      <th>2008</th>\n",
       "      <th>2009</th>\n",
       "      <th>2010</th>\n",
       "      <th>2011</th>\n",
       "    </tr>\n",
       "  </thead>\n",
       "  <tbody>\n",
       "    <tr>\n",
       "      <th>164</th>\n",
       "      <td>PAN</td>\n",
       "      <td>Panama</td>\n",
       "      <td>AG.LND.EL5M.ZS</td>\n",
       "      <td>Land area below 5m (% of land area)</td>\n",
       "      <td>0</td>\n",
       "      <td>1</td>\n",
       "      <td>3.705232</td>\n",
       "      <td>..</td>\n",
       "      <td>..</td>\n",
       "      <td>..</td>\n",
       "      <td>...</td>\n",
       "      <td>..</td>\n",
       "      <td>..</td>\n",
       "      <td>..</td>\n",
       "      <td>..</td>\n",
       "      <td>..</td>\n",
       "      <td>..</td>\n",
       "      <td>..</td>\n",
       "      <td>..</td>\n",
       "      <td>..</td>\n",
       "      <td>..</td>\n",
       "    </tr>\n",
       "    <tr>\n",
       "      <th>397</th>\n",
       "      <td>PAN</td>\n",
       "      <td>Panama</td>\n",
       "      <td>AG.LND.IRIG.AG.ZS</td>\n",
       "      <td>Agricultural land under irrigation (% of total...</td>\n",
       "      <td>0</td>\n",
       "      <td>1</td>\n",
       "      <td>..</td>\n",
       "      <td>..</td>\n",
       "      <td>..</td>\n",
       "      <td>..</td>\n",
       "      <td>...</td>\n",
       "      <td>..</td>\n",
       "      <td>..</td>\n",
       "      <td>..</td>\n",
       "      <td>..</td>\n",
       "      <td>..</td>\n",
       "      <td>..</td>\n",
       "      <td>..</td>\n",
       "      <td>..</td>\n",
       "      <td>..</td>\n",
       "      <td>..</td>\n",
       "    </tr>\n",
       "    <tr>\n",
       "      <th>630</th>\n",
       "      <td>PAN</td>\n",
       "      <td>Panama</td>\n",
       "      <td>AG.YLD.CREL.KG</td>\n",
       "      <td>Cereal yield (kg per hectare)</td>\n",
       "      <td>0</td>\n",
       "      <td>0</td>\n",
       "      <td>1866.6</td>\n",
       "      <td>1882.9</td>\n",
       "      <td>1835.8</td>\n",
       "      <td>1898.7</td>\n",
       "      <td>...</td>\n",
       "      <td>1980.3</td>\n",
       "      <td>1986.7</td>\n",
       "      <td>1694.8</td>\n",
       "      <td>1871.9</td>\n",
       "      <td>2146.1</td>\n",
       "      <td>2191.8</td>\n",
       "      <td>2735</td>\n",
       "      <td>2019.2</td>\n",
       "      <td>..</td>\n",
       "      <td>..</td>\n",
       "    </tr>\n",
       "    <tr>\n",
       "      <th>863</th>\n",
       "      <td>PAN</td>\n",
       "      <td>Panama</td>\n",
       "      <td>BX.KLT.DINV.WD.GD.ZS</td>\n",
       "      <td>Foreign direct investment, net inflows (% of GDP)</td>\n",
       "      <td>0</td>\n",
       "      <td>1</td>\n",
       "      <td>2.550252</td>\n",
       "      <td>1.857145</td>\n",
       "      <td>2.175746</td>\n",
       "      <td>2.338439</td>\n",
       "      <td>...</td>\n",
       "      <td>0.803429</td>\n",
       "      <td>6.320941</td>\n",
       "      <td>7.187238</td>\n",
       "      <td>5.933513</td>\n",
       "      <td>14.921515</td>\n",
       "      <td>8.974942</td>\n",
       "      <td>9.548031</td>\n",
       "      <td>7.362096</td>\n",
       "      <td>8.822837</td>\n",
       "      <td>..</td>\n",
       "    </tr>\n",
       "    <tr>\n",
       "      <th>1096</th>\n",
       "      <td>PAN</td>\n",
       "      <td>Panama</td>\n",
       "      <td>EG.ELC.ACCS.ZS</td>\n",
       "      <td>Access to electricity (% of total population)</td>\n",
       "      <td>0</td>\n",
       "      <td>1</td>\n",
       "      <td>..</td>\n",
       "      <td>..</td>\n",
       "      <td>..</td>\n",
       "      <td>..</td>\n",
       "      <td>...</td>\n",
       "      <td>..</td>\n",
       "      <td>..</td>\n",
       "      <td>..</td>\n",
       "      <td>..</td>\n",
       "      <td>..</td>\n",
       "      <td>..</td>\n",
       "      <td>..</td>\n",
       "      <td>88.1</td>\n",
       "      <td>..</td>\n",
       "      <td>..</td>\n",
       "    </tr>\n",
       "  </tbody>\n",
       "</table>\n",
       "<p>5 rows × 28 columns</p>\n",
       "</div>"
      ],
      "text/plain": [
       "     Country code Country name           Series code  \\\n",
       "164           PAN       Panama        AG.LND.EL5M.ZS   \n",
       "397           PAN       Panama     AG.LND.IRIG.AG.ZS   \n",
       "630           PAN       Panama        AG.YLD.CREL.KG   \n",
       "863           PAN       Panama  BX.KLT.DINV.WD.GD.ZS   \n",
       "1096          PAN       Panama        EG.ELC.ACCS.ZS   \n",
       "\n",
       "                                            Series name SCALE Decimals  \\\n",
       "164                 Land area below 5m (% of land area)     0        1   \n",
       "397   Agricultural land under irrigation (% of total...     0        1   \n",
       "630                       Cereal yield (kg per hectare)     0        0   \n",
       "863   Foreign direct investment, net inflows (% of GDP)     0        1   \n",
       "1096      Access to electricity (% of total population)     0        1   \n",
       "\n",
       "          1990      1991      1992      1993  ...      2002      2003  \\\n",
       "164   3.705232        ..        ..        ..  ...        ..        ..   \n",
       "397         ..        ..        ..        ..  ...        ..        ..   \n",
       "630     1866.6    1882.9    1835.8    1898.7  ...    1980.3    1986.7   \n",
       "863   2.550252  1.857145  2.175746  2.338439  ...  0.803429  6.320941   \n",
       "1096        ..        ..        ..        ..  ...        ..        ..   \n",
       "\n",
       "          2004      2005       2006      2007      2008      2009      2010  \\\n",
       "164         ..        ..         ..        ..        ..        ..        ..   \n",
       "397         ..        ..         ..        ..        ..        ..        ..   \n",
       "630     1694.8    1871.9     2146.1    2191.8      2735    2019.2        ..   \n",
       "863   7.187238  5.933513  14.921515  8.974942  9.548031  7.362096  8.822837   \n",
       "1096        ..        ..         ..        ..        ..      88.1        ..   \n",
       "\n",
       "     2011  \n",
       "164    ..  \n",
       "397    ..  \n",
       "630    ..  \n",
       "863    ..  \n",
       "1096   ..  \n",
       "\n",
       "[5 rows x 28 columns]"
      ]
     },
     "execution_count": 26,
     "metadata": {},
     "output_type": "execute_result"
    }
   ],
   "source": [
    "data = data.loc[data['Country name'] == 'Panama',:]\n",
    "data.head()"
   ]
  },
  {
   "cell_type": "code",
   "execution_count": 27,
   "metadata": {},
   "outputs": [
    {
     "data": {
      "text/plain": [
       "Land area below 5m (% of land area)                                 1\n",
       "GNI per capita (Atlas $)                                            1\n",
       "Population below 5m (% of total)                                    1\n",
       "Population in urban agglomerations >1million (%)                    1\n",
       "Annual freshwater withdrawals (% of internal resources)             1\n",
       "Nationally terrestrial protected areas (% of total land area)       1\n",
       "Ease of doing business (ranking 1-183; 1=best)                      1\n",
       "Invest. in energy w/ private participation ($)                      1\n",
       "Invest. in telecoms w/ private participation ($)                    1\n",
       "Invest. in transport w/ private participation ($)                   1\n",
       "Invest. in water/sanit. w/ private participation ($)                1\n",
       "Public sector mgmt & institutions avg. (1-6 scale; 6=best)          1\n",
       "Paved roads (% of total roads)                                      1\n",
       "GDP ($)                                                             1\n",
       "Ratio of girls to boys in primary & secondary school (%)            1\n",
       "Agricultural land under irrigation (% of total ag. land)            1\n",
       "Primary completion rate, total (% of relevant age group)            1\n",
       "Under-five mortality rate (per 1,000)                               1\n",
       "Access to improved water source (% of total pop.)                   1\n",
       "Nurses and midwives (per 1,000 people)                              1\n",
       "Physicians (per 1,000 people)                                       1\n",
       "Malaria incidence rate (per 100,000 people)                         1\n",
       "Access to improved sanitation (% of total pop.)                     1\n",
       "Child malnutrition, underweight (% of under age 5)                  1\n",
       "Population living below $1.25 a day (% of total)                    1\n",
       "Population growth (annual %)                                        1\n",
       "Population                                                          1\n",
       "Urban population growth (annual %)                                  1\n",
       "Renewable energy target                                             1\n",
       "Projected annual precipitation change (2045-2065, mm)               1\n",
       "Projected change in annual hot days/warm nights                     1\n",
       "Projected change in annual cool days/cold nights                    1\n",
       "Cereal yield (kg per hectare)                                       1\n",
       "Foreign direct investment, net inflows (% of GDP)                   1\n",
       "Access to electricity (% of total population)                       1\n",
       "Energy use per units of GDP (kg oil eq./$1,000 of 2005 PPP $)       1\n",
       "Energy use per capita (kilograms of oil equivalent)                 1\n",
       "CO2 emissions, total (KtCO2)                                        1\n",
       "CO2 emissions per capita (metric tons)                              1\n",
       "CO2 emissions per units of GDP (kg/$1,000 of 2005 PPP $)            1\n",
       "Other GHG emissions, total (KtCO2e)                                 1\n",
       "Methane (CH4) emissions, total (KtCO2e)                             1\n",
       "Nitrous oxide (N2O) emissions, total (KtCO2e)                       1\n",
       "Annex-I emissions reduction target                                  1\n",
       "Disaster risk reduction progress score (1-5 scale; 5=best)          1\n",
       "GHG net emissions/removals by LUCF (MtCO2e)                         1\n",
       "Hosted Clean Development Mechanism (CDM) projects                   1\n",
       "Hosted Joint Implementation (JI) projects                           1\n",
       "Average annual precipitation (1961-1990, mm)                        1\n",
       "Issued Certified Emission Reductions (CERs) from CDM (thousands)    1\n",
       "Issued Emission Reduction Units (ERUs) from JI (thousands)          1\n",
       "Droughts, floods, extreme temps (% pop. avg. 1990-2009)             1\n",
       "Average daily min/max temperature (1961-1990, Celsius)              1\n",
       "NAMA submission                                                     1\n",
       "NAPA submission                                                     1\n",
       "Latest UNFCCC national communication                                1\n",
       "Projected annual temperature change (2045-2065, Celsius)            1\n",
       "Urban population                                                    1\n",
       "Name: Series name, dtype: int64"
      ]
     },
     "execution_count": 27,
     "metadata": {},
     "output_type": "execute_result"
    }
   ],
   "source": [
    "data['Series name'].value_counts()"
   ]
  },
  {
   "cell_type": "code",
   "execution_count": 28,
   "metadata": {},
   "outputs": [],
   "source": [
    "df = pd.DataFrame()"
   ]
  },
  {
   "cell_type": "code",
   "execution_count": 2,
   "metadata": {},
   "outputs": [],
   "source": [
    "#data.melt(id_vars=[\"GDP ($)\", \"Population\", \"Urban population\", \"Nationally terrestrial protected areas (% of total land area)\"],\n",
    "#    var_name=\"Date\",\n",
    "#    value_name=\"Value\")\n"
   ]
  },
  {
   "cell_type": "code",
   "execution_count": 30,
   "metadata": {},
   "outputs": [
    {
     "data": {
      "text/html": [
       "<div>\n",
       "<style scoped>\n",
       "    .dataframe tbody tr th:only-of-type {\n",
       "        vertical-align: middle;\n",
       "    }\n",
       "\n",
       "    .dataframe tbody tr th {\n",
       "        vertical-align: top;\n",
       "    }\n",
       "\n",
       "    .dataframe thead th {\n",
       "        text-align: right;\n",
       "    }\n",
       "</style>\n",
       "<table border=\"1\" class=\"dataframe\">\n",
       "  <thead>\n",
       "    <tr style=\"text-align: right;\">\n",
       "      <th></th>\n",
       "      <th>Country code</th>\n",
       "      <th>Country name</th>\n",
       "      <th>Series code</th>\n",
       "      <th>Series name</th>\n",
       "      <th>SCALE</th>\n",
       "      <th>Decimals</th>\n",
       "      <th>1990</th>\n",
       "      <th>1991</th>\n",
       "      <th>1992</th>\n",
       "      <th>1993</th>\n",
       "      <th>...</th>\n",
       "      <th>2002</th>\n",
       "      <th>2003</th>\n",
       "      <th>2004</th>\n",
       "      <th>2005</th>\n",
       "      <th>2006</th>\n",
       "      <th>2007</th>\n",
       "      <th>2008</th>\n",
       "      <th>2009</th>\n",
       "      <th>2010</th>\n",
       "      <th>2011</th>\n",
       "    </tr>\n",
       "  </thead>\n",
       "  <tbody>\n",
       "    <tr>\n",
       "      <th>9950</th>\n",
       "      <td>PAN</td>\n",
       "      <td>Panama</td>\n",
       "      <td>NY.GDP.MKTP.CD</td>\n",
       "      <td>GDP ($)</td>\n",
       "      <td>0</td>\n",
       "      <td>0</td>\n",
       "      <td>5313200000</td>\n",
       "      <td>5842300000</td>\n",
       "      <td>6641400000</td>\n",
       "      <td>7252700000</td>\n",
       "      <td>...</td>\n",
       "      <td>12272400000</td>\n",
       "      <td>12933200000</td>\n",
       "      <td>14179300000</td>\n",
       "      <td>15464700000</td>\n",
       "      <td>17137000000</td>\n",
       "      <td>19794000000</td>\n",
       "      <td>23001600000</td>\n",
       "      <td>24080100000</td>\n",
       "      <td>26777100000</td>\n",
       "      <td>..</td>\n",
       "    </tr>\n",
       "  </tbody>\n",
       "</table>\n",
       "<p>1 rows × 28 columns</p>\n",
       "</div>"
      ],
      "text/plain": [
       "     Country code Country name     Series code Series name SCALE Decimals  \\\n",
       "9950          PAN       Panama  NY.GDP.MKTP.CD     GDP ($)     0        0   \n",
       "\n",
       "            1990        1991        1992        1993  ...         2002  \\\n",
       "9950  5313200000  5842300000  6641400000  7252700000  ...  12272400000   \n",
       "\n",
       "             2003         2004         2005         2006         2007  \\\n",
       "9950  12933200000  14179300000  15464700000  17137000000  19794000000   \n",
       "\n",
       "             2008         2009         2010 2011  \n",
       "9950  23001600000  24080100000  26777100000   ..  \n",
       "\n",
       "[1 rows x 28 columns]"
      ]
     },
     "execution_count": 30,
     "metadata": {},
     "output_type": "execute_result"
    }
   ],
   "source": [
    "df = data.loc[data['Series name'] == 'GDP ($)', :]\n",
    "df.head()"
   ]
  },
  {
   "cell_type": "code",
   "execution_count": 33,
   "metadata": {},
   "outputs": [
    {
     "data": {
      "text/html": [
       "<div>\n",
       "<style scoped>\n",
       "    .dataframe tbody tr th:only-of-type {\n",
       "        vertical-align: middle;\n",
       "    }\n",
       "\n",
       "    .dataframe tbody tr th {\n",
       "        vertical-align: top;\n",
       "    }\n",
       "\n",
       "    .dataframe thead th {\n",
       "        text-align: right;\n",
       "    }\n",
       "</style>\n",
       "<table border=\"1\" class=\"dataframe\">\n",
       "  <thead>\n",
       "    <tr style=\"text-align: right;\">\n",
       "      <th></th>\n",
       "      <th>Country code</th>\n",
       "      <th>Country name</th>\n",
       "      <th>Series code</th>\n",
       "      <th>Series name</th>\n",
       "      <th>SCALE</th>\n",
       "      <th>Decimals</th>\n",
       "      <th>1990</th>\n",
       "      <th>1991</th>\n",
       "      <th>1992</th>\n",
       "      <th>1993</th>\n",
       "      <th>...</th>\n",
       "      <th>2002</th>\n",
       "      <th>2003</th>\n",
       "      <th>2004</th>\n",
       "      <th>2005</th>\n",
       "      <th>2006</th>\n",
       "      <th>2007</th>\n",
       "      <th>2008</th>\n",
       "      <th>2009</th>\n",
       "      <th>2010</th>\n",
       "      <th>2011</th>\n",
       "    </tr>\n",
       "  </thead>\n",
       "  <tbody>\n",
       "    <tr>\n",
       "      <th>9950</th>\n",
       "      <td>PAN</td>\n",
       "      <td>Panama</td>\n",
       "      <td>NY.GDP.MKTP.CD</td>\n",
       "      <td>GDP ($)</td>\n",
       "      <td>0</td>\n",
       "      <td>0</td>\n",
       "      <td>5313200000</td>\n",
       "      <td>5842300000</td>\n",
       "      <td>6641400000</td>\n",
       "      <td>7252700000</td>\n",
       "      <td>...</td>\n",
       "      <td>12272400000</td>\n",
       "      <td>12933200000</td>\n",
       "      <td>14179300000</td>\n",
       "      <td>15464700000</td>\n",
       "      <td>17137000000</td>\n",
       "      <td>19794000000</td>\n",
       "      <td>23001600000</td>\n",
       "      <td>24080100000</td>\n",
       "      <td>26777100000</td>\n",
       "      <td>..</td>\n",
       "    </tr>\n",
       "  </tbody>\n",
       "</table>\n",
       "<p>1 rows × 28 columns</p>\n",
       "</div>"
      ],
      "text/plain": [
       "     Country code Country name     Series code Series name SCALE Decimals  \\\n",
       "9950          PAN       Panama  NY.GDP.MKTP.CD     GDP ($)     0        0   \n",
       "\n",
       "            1990        1991        1992        1993  ...         2002  \\\n",
       "9950  5313200000  5842300000  6641400000  7252700000  ...  12272400000   \n",
       "\n",
       "             2003         2004         2005         2006         2007  \\\n",
       "9950  12933200000  14179300000  15464700000  17137000000  19794000000   \n",
       "\n",
       "             2008         2009         2010 2011  \n",
       "9950  23001600000  24080100000  26777100000   ..  \n",
       "\n",
       "[1 rows x 28 columns]"
      ]
     },
     "execution_count": 33,
     "metadata": {},
     "output_type": "execute_result"
    }
   ],
   "source": [
    "#df.rename(columns={\"Series name\": \"GDP ($)\"})\n",
    "df = df.apply(lambda x: 1 if x['Series name'] == 'GDP ($)' else 0, axis= 1)"
   ]
  },
  {
   "cell_type": "code",
   "execution_count": 14,
   "metadata": {},
   "outputs": [
    {
     "data": {
      "text/html": [
       "<div>\n",
       "<style scoped>\n",
       "    .dataframe tbody tr th:only-of-type {\n",
       "        vertical-align: middle;\n",
       "    }\n",
       "\n",
       "    .dataframe tbody tr th {\n",
       "        vertical-align: top;\n",
       "    }\n",
       "\n",
       "    .dataframe thead th {\n",
       "        text-align: right;\n",
       "    }\n",
       "</style>\n",
       "<table border=\"1\" class=\"dataframe\">\n",
       "  <thead>\n",
       "    <tr style=\"text-align: right;\">\n",
       "      <th></th>\n",
       "      <th>Country</th>\n",
       "      <th>Age</th>\n",
       "      <th>Salary</th>\n",
       "      <th>Purchased</th>\n",
       "    </tr>\n",
       "  </thead>\n",
       "  <tbody>\n",
       "    <tr>\n",
       "      <th>0</th>\n",
       "      <td>France</td>\n",
       "      <td>44.0</td>\n",
       "      <td>72000.0</td>\n",
       "      <td>No</td>\n",
       "    </tr>\n",
       "    <tr>\n",
       "      <th>1</th>\n",
       "      <td>Spain</td>\n",
       "      <td>27.0</td>\n",
       "      <td>48000.0</td>\n",
       "      <td>Yes</td>\n",
       "    </tr>\n",
       "    <tr>\n",
       "      <th>2</th>\n",
       "      <td>Germany</td>\n",
       "      <td>30.0</td>\n",
       "      <td>54000.0</td>\n",
       "      <td>No</td>\n",
       "    </tr>\n",
       "    <tr>\n",
       "      <th>3</th>\n",
       "      <td>Spain</td>\n",
       "      <td>38.0</td>\n",
       "      <td>61000.0</td>\n",
       "      <td>No</td>\n",
       "    </tr>\n",
       "    <tr>\n",
       "      <th>4</th>\n",
       "      <td>Germany</td>\n",
       "      <td>40.0</td>\n",
       "      <td>NaN</td>\n",
       "      <td>Yes</td>\n",
       "    </tr>\n",
       "  </tbody>\n",
       "</table>\n",
       "</div>"
      ],
      "text/plain": [
       "   Country   Age   Salary Purchased\n",
       "0   France  44.0  72000.0        No\n",
       "1    Spain  27.0  48000.0       Yes\n",
       "2  Germany  30.0  54000.0        No\n",
       "3    Spain  38.0  61000.0        No\n",
       "4  Germany  40.0      NaN       Yes"
      ]
     },
     "execution_count": 14,
     "metadata": {},
     "output_type": "execute_result"
    }
   ],
   "source": [
    "dataset = pd.read_csv(\"Data.csv\")\n",
    "dataset.head()"
   ]
  },
  {
   "cell_type": "code",
   "execution_count": 80,
   "metadata": {},
   "outputs": [
    {
     "data": {
      "text/plain": [
       "array([['France', 44.0, 72000.0],\n",
       "       ['Spain', 27.0, 48000.0],\n",
       "       ['Germany', 30.0, 54000.0],\n",
       "       ['Spain', 38.0, 61000.0],\n",
       "       ['Germany', 40.0, nan],\n",
       "       ['France', 35.0, 58000.0],\n",
       "       ['Spain', nan, 52000.0],\n",
       "       ['France', 48.0, 79000.0],\n",
       "       ['Germany', 50.0, 83000.0],\n",
       "       ['France', 37.0, 67000.0]], dtype=object)"
      ]
     },
     "execution_count": 80,
     "metadata": {},
     "output_type": "execute_result"
    }
   ],
   "source": [
    "X = dataset.iloc[:, :-1].values\n",
    "X"
   ]
  },
  {
   "cell_type": "code",
   "execution_count": 81,
   "metadata": {},
   "outputs": [
    {
     "data": {
      "text/plain": [
       "0     No\n",
       "1    Yes\n",
       "2     No\n",
       "3     No\n",
       "4    Yes\n",
       "5    Yes\n",
       "6     No\n",
       "7    Yes\n",
       "8     No\n",
       "9    Yes\n",
       "Name: Purchased, dtype: object"
      ]
     },
     "execution_count": 81,
     "metadata": {},
     "output_type": "execute_result"
    }
   ],
   "source": [
    "Y = dataset.iloc[:, -1]\n",
    "Y"
   ]
  },
  {
   "cell_type": "code",
   "execution_count": 82,
   "metadata": {},
   "outputs": [
    {
     "data": {
      "text/plain": [
       "dtype('O')"
      ]
     },
     "execution_count": 82,
     "metadata": {},
     "output_type": "execute_result"
    }
   ],
   "source": [
    "Y.dtypes"
   ]
  },
  {
   "cell_type": "code",
   "execution_count": 83,
   "metadata": {},
   "outputs": [
    {
     "name": "stdout",
     "output_type": "stream",
     "text": [
      "[['France' 44.0 72000.0]\n",
      " ['Spain' 27.0 48000.0]\n",
      " ['Germany' 30.0 54000.0]\n",
      " ['Spain' 38.0 61000.0]\n",
      " ['Germany' 40.0 63777.77777777778]\n",
      " ['France' 35.0 58000.0]\n",
      " ['Spain' 38.77777777777778 52000.0]\n",
      " ['France' 48.0 79000.0]\n",
      " ['Germany' 50.0 83000.0]\n",
      " ['France' 37.0 67000.0]]\n"
     ]
    }
   ],
   "source": [
    "from sklearn.impute import SimpleImputer\n",
    "imputer = SimpleImputer(missing_values=np.nan, strategy='mean')\n",
    "imputer.fit(X[:,1:3])\n",
    "X[:,1:3] = imputer.transform(X[:,1:3])\n",
    "print(X)"
   ]
  },
  {
   "cell_type": "code",
   "execution_count": 84,
   "metadata": {},
   "outputs": [
    {
     "name": "stdout",
     "output_type": "stream",
     "text": [
      "[['France' 44.0 72000.0]\n",
      " ['Spain' 27.0 48000.0]\n",
      " ['Germany' 30.0 54000.0]\n",
      " ['Spain' 38.0 61000.0]\n",
      " ['Germany' 40.0 63777.77777777778]\n",
      " ['France' 35.0 58000.0]\n",
      " ['Spain' 38.77777777777778 52000.0]\n",
      " ['France' 48.0 79000.0]\n",
      " ['Germany' 50.0 83000.0]\n",
      " ['France' 37.0 67000.0]]\n"
     ]
    }
   ],
   "source": [
    "print(X)"
   ]
  },
  {
   "cell_type": "code",
   "execution_count": 85,
   "metadata": {},
   "outputs": [],
   "source": [
    "from sklearn.compose import ColumnTransformer\n",
    "#OneHotEncoder is used for several categorical data\n",
    "from sklearn.preprocessing import OneHotEncoder\n",
    "ct = ColumnTransformer(transformers=[('encoder', OneHotEncoder(), [0])], remainder='passthrough')\n",
    "X = np.array(ct.fit_transform(X))\n"
   ]
  },
  {
   "cell_type": "code",
   "execution_count": 86,
   "metadata": {},
   "outputs": [
    {
     "name": "stdout",
     "output_type": "stream",
     "text": [
      "[[1.0 0.0 0.0 44.0 72000.0]\n",
      " [0.0 0.0 1.0 27.0 48000.0]\n",
      " [0.0 1.0 0.0 30.0 54000.0]\n",
      " [0.0 0.0 1.0 38.0 61000.0]\n",
      " [0.0 1.0 0.0 40.0 63777.77777777778]\n",
      " [1.0 0.0 0.0 35.0 58000.0]\n",
      " [0.0 0.0 1.0 38.77777777777778 52000.0]\n",
      " [1.0 0.0 0.0 48.0 79000.0]\n",
      " [0.0 1.0 0.0 50.0 83000.0]\n",
      " [1.0 0.0 0.0 37.0 67000.0]]\n"
     ]
    }
   ],
   "source": [
    "print(X)"
   ]
  },
  {
   "cell_type": "code",
   "execution_count": 87,
   "metadata": {},
   "outputs": [],
   "source": [
    "#LabelEncoder is used for two categorical data which can be directly encoded to 0 and 1\n",
    "from sklearn.preprocessing import LabelEncoder\n",
    "le = LabelEncoder()\n",
    "Y = le.fit_transform(Y)"
   ]
  },
  {
   "cell_type": "code",
   "execution_count": 88,
   "metadata": {},
   "outputs": [
    {
     "name": "stdout",
     "output_type": "stream",
     "text": [
      "[0 1 0 0 1 1 0 1 0 1]\n"
     ]
    }
   ],
   "source": [
    "print(Y)"
   ]
  },
  {
   "cell_type": "code",
   "execution_count": 89,
   "metadata": {},
   "outputs": [],
   "source": [
    "from sklearn.model_selection import train_test_split\n",
    "X_train, X_test, Y_train, Y_test = train_test_split(X,Y,test_size=0.2, random_state=1)"
   ]
  },
  {
   "cell_type": "code",
   "execution_count": 90,
   "metadata": {},
   "outputs": [
    {
     "name": "stdout",
     "output_type": "stream",
     "text": [
      "[[0.0 0.0 1.0 38.77777777777778 52000.0]\n",
      " [0.0 1.0 0.0 40.0 63777.77777777778]\n",
      " [1.0 0.0 0.0 44.0 72000.0]\n",
      " [0.0 0.0 1.0 38.0 61000.0]\n",
      " [0.0 0.0 1.0 27.0 48000.0]\n",
      " [1.0 0.0 0.0 48.0 79000.0]\n",
      " [0.0 1.0 0.0 50.0 83000.0]\n",
      " [1.0 0.0 0.0 35.0 58000.0]]\n"
     ]
    }
   ],
   "source": [
    "print(X_train)"
   ]
  },
  {
   "cell_type": "code",
   "execution_count": 91,
   "metadata": {},
   "outputs": [
    {
     "name": "stdout",
     "output_type": "stream",
     "text": [
      "[[0.0 1.0 0.0 30.0 54000.0]\n",
      " [1.0 0.0 0.0 37.0 67000.0]]\n"
     ]
    }
   ],
   "source": [
    "print(X_test)"
   ]
  },
  {
   "cell_type": "code",
   "execution_count": 92,
   "metadata": {},
   "outputs": [
    {
     "name": "stdout",
     "output_type": "stream",
     "text": [
      "[0 1 0 0 1 1 0 1]\n"
     ]
    }
   ],
   "source": [
    "print(Y_train)"
   ]
  },
  {
   "cell_type": "code",
   "execution_count": 93,
   "metadata": {},
   "outputs": [
    {
     "name": "stdout",
     "output_type": "stream",
     "text": [
      "[0 1]\n"
     ]
    }
   ],
   "source": [
    "print(Y_test)"
   ]
  },
  {
   "cell_type": "code",
   "execution_count": 94,
   "metadata": {},
   "outputs": [],
   "source": [
    "from sklearn.preprocessing import StandardScaler\n",
    "sc = StandardScaler()\n",
    "X_train[:, 3:] = sc.fit_transform(X_train[:, 3:])\n",
    "X_test[:, 3:] = sc.transform(X_test[:, 3:])"
   ]
  },
  {
   "cell_type": "code",
   "execution_count": 95,
   "metadata": {},
   "outputs": [
    {
     "name": "stdout",
     "output_type": "stream",
     "text": [
      "[[0.0 0.0 1.0 -0.19159184384578545 -1.0781259408412425]\n",
      " [0.0 1.0 0.0 -0.014117293757057777 -0.07013167641635372]\n",
      " [1.0 0.0 0.0 0.566708506533324 0.633562432710455]\n",
      " [0.0 0.0 1.0 -0.30453019390224867 -0.30786617274297867]\n",
      " [0.0 0.0 1.0 -1.9018011447007988 -1.420463615551582]\n",
      " [1.0 0.0 0.0 1.1475343068237058 1.232653363453549]\n",
      " [0.0 1.0 0.0 1.4379472069688968 1.5749910381638885]\n",
      " [1.0 0.0 0.0 -0.7401495441200351 -0.5646194287757332]]\n"
     ]
    }
   ],
   "source": [
    "print(X_train)"
   ]
  },
  {
   "cell_type": "code",
   "execution_count": 96,
   "metadata": {},
   "outputs": [
    {
     "name": "stdout",
     "output_type": "stream",
     "text": [
      "[[0.0 1.0 0.0 -1.4661817944830124 -0.9069571034860727]\n",
      " [1.0 0.0 0.0 -0.44973664397484414 0.2056403393225306]]\n"
     ]
    }
   ],
   "source": [
    "print(X_test)"
   ]
  }
 ],
 "metadata": {
  "interpreter": {
   "hash": "c7512021c9f317d153fb1c0ea128d6c6384186d334c76d988f0210a89ca27a64"
  },
  "kernelspec": {
   "display_name": "Python 3.8.8 64-bit ('base': conda)",
   "language": "python",
   "name": "python3"
  },
  "language_info": {
   "codemirror_mode": {
    "name": "ipython",
    "version": 3
   },
   "file_extension": ".py",
   "mimetype": "text/x-python",
   "name": "python",
   "nbconvert_exporter": "python",
   "pygments_lexer": "ipython3",
   "version": "3.8.8"
  },
  "orig_nbformat": 4
 },
 "nbformat": 4,
 "nbformat_minor": 2
}
